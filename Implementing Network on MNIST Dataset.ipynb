{
 "cells": [
  {
   "cell_type": "markdown",
   "id": "ecf44680-b0f2-4ad4-8747-a0af7ef0ce46",
   "metadata": {},
   "source": [
    "## Importing MNIST Dataset"
   ]
  },
  {
   "cell_type": "code",
   "execution_count": 21,
   "id": "22e9b6cc-a4bf-495c-9cb6-c7e412a19cca",
   "metadata": {},
   "outputs": [],
   "source": [
    "#\n",
    "# This is a sample Notebook to demonstrate how to read \"MNIST Dataset\"\n",
    "#\n",
    "import numpy as np # linear algebra\n",
    "import struct\n",
    "from array import array\n",
    "from os.path  import join\n",
    "\n",
    "#\n",
    "# MNIST Data Loader Class\n",
    "#\n",
    "class MnistDataloader(object):\n",
    "    def __init__(self, training_images_filepath,training_labels_filepath,\n",
    "                 test_images_filepath, test_labels_filepath):\n",
    "        self.training_images_filepath = training_images_filepath\n",
    "        self.training_labels_filepath = training_labels_filepath\n",
    "        self.test_images_filepath = test_images_filepath\n",
    "        self.test_labels_filepath = test_labels_filepath\n",
    "    \n",
    "    def read_images_labels(self, images_filepath, labels_filepath):        \n",
    "        labels = []\n",
    "        with open(labels_filepath, 'rb') as file:\n",
    "            magic, size = struct.unpack(\">II\", file.read(8))\n",
    "            if magic != 2049:\n",
    "                raise ValueError('Magic number mismatch, expected 2049, got {}'.format(magic))\n",
    "            labels = array(\"B\", file.read())        \n",
    "        \n",
    "        with open(images_filepath, 'rb') as file:\n",
    "            magic, size, rows, cols = struct.unpack(\">IIII\", file.read(16))\n",
    "            if magic != 2051:\n",
    "                raise ValueError('Magic number mismatch, expected 2051, got {}'.format(magic))\n",
    "            image_data = array(\"B\", file.read())\n",
    "        images = []\n",
    "        for i in range(size):\n",
    "            images.append([0] * rows * cols)\n",
    "        for i in range(size):\n",
    "            img = np.array(image_data[i * rows * cols:(i + 1) * rows * cols])\n",
    "            img = img.reshape(28, 28)\n",
    "            images[i][:] = img            \n",
    "        \n",
    "        return images, labels\n",
    "            \n",
    "    def load_data(self):\n",
    "        x_train, y_train = self.read_images_labels(self.training_images_filepath, self.training_labels_filepath)\n",
    "        x_test, y_test = self.read_images_labels(self.test_images_filepath, self.test_labels_filepath)\n",
    "        return (x_train, y_train),(x_test, y_test)   "
   ]
  },
  {
   "cell_type": "markdown",
   "id": "a33095f8-bf2b-40eb-aba2-2b7185088699",
   "metadata": {},
   "source": [
    "### Verifiying Dataset Was Loaded Correctly via MnistDataloader class"
   ]
  },
  {
   "cell_type": "code",
   "execution_count": 33,
   "id": "daa06b04-37d7-417d-86a0-70c89094e23e",
   "metadata": {},
   "outputs": [
    {
     "name": "stdout",
     "output_type": "stream",
     "text": [
      "MNIST\\train-images-idx3-ubyte/train-images-idx3-ubyte\n",
      "MNIST\\train-labels-idx1-ubyte/train-labels-idx1-ubyte\n",
      "MNIST\\t10k-images-idx3-ubyte/t10k-images-idx3-ubyte\n",
      "MNIST\\t10k-labels-idx1-ubyte/t10k-labels-idx1-ubyte\n"
     ]
    }
   ],
   "source": [
    "%matplotlib inline\n",
    "import random\n",
    "import matplotlib.pyplot as plt\n",
    "\n",
    "#\n",
    "# Set file paths based on added MNIST Datasets\n",
    "#\n",
    "input_path = 'MNIST'\n",
    "training_images_filepath = join(input_path, 'train-images-idx3-ubyte/train-images-idx3-ubyte') #60,000 training images\n",
    "training_labels_filepath = join(input_path, 'train-labels-idx1-ubyte/train-labels-idx1-ubyte')\n",
    "test_images_filepath = join(input_path, 't10k-images-idx3-ubyte/t10k-images-idx3-ubyte') #10,000 test images\n",
    "test_labels_filepath = join(input_path, 't10k-labels-idx1-ubyte/t10k-labels-idx1-ubyte')\n",
    "\n",
    "print(training_images_filepath)\n",
    "print(training_labels_filepath)\n",
    "print(test_images_filepath)\n",
    "print(test_labels_filepath)\n",
    "\n",
    "#\n",
    "# Helper function to show a list of images with their relating titles\n",
    "#\n",
    "def show_images(images, title_texts):\n",
    "    cols = 5\n",
    "    rows = int(len(images)/cols) + 1\n",
    "    plt.figure(figsize=(30,20))\n",
    "    index = 1    \n",
    "    for x in zip(images, title_texts):        \n",
    "        image = x[0]        \n",
    "        title_text = x[1]\n",
    "        plt.subplot(rows, cols, index)        \n",
    "        plt.imshow(image, cmap=plt.cm.gray) # values go from 0 (black) to 256\n",
    "        if (title_text != ''):\n",
    "            plt.title(title_text, fontsize = 15);        \n",
    "        index += 1\n",
    "\n",
    "#\n",
    "# Load MINST dataset\n",
    "#\n",
    "mnist_dataloader = MnistDataloader(training_images_filepath, training_labels_filepath, test_images_filepath, test_labels_filepath)\n",
    "(x_train, y_train), (x_test, y_test) = mnist_dataloader.load_data()\n"
   ]
  },
  {
   "cell_type": "markdown",
   "id": "1bcbd486-7544-46ac-bb97-9614625c0c82",
   "metadata": {},
   "source": [
    "### Showing Some of the Images Based on Selected File Path"
   ]
  },
  {
   "cell_type": "code",
   "execution_count": 34,
   "id": "4e04653b-07a1-4a10-a612-4e8b95867e19",
   "metadata": {},
   "outputs": [
    {
     "data": {
      "image/png": "[encoded data removed]",
      "text/plain": [
       "<Figure size 3000x2000 with 2 Axes>"
      ]
     },
     "metadata": {},
     "output_type": "display_data"
    }
   ],
   "source": [
    "#\n",
    "# Show some random training and test images \n",
    "#\n",
    "images_2_show = []\n",
    "titles_2_show = []\n",
    "for i in range(0, 1): # how many random training images you want to show\n",
    "    r = random.randint(1, 60000)\n",
    "    images_2_show.append(x_train[r])\n",
    "    titles_2_show.append('training image [' + str(r) + '] = ' + str(y_train[r]))    \n",
    "\n",
    "for i in range(0, 1): # how many random test images you want to show\n",
    "    r = random.randint(1, 10000)\n",
    "    images_2_show.append(x_test[r])        \n",
    "    titles_2_show.append('test image [' + str(r) + '] = ' + str(y_test[r]))    \n",
    "\n",
    "show_images(images_2_show, titles_2_show)"
   ]
  },
  {
   "cell_type": "markdown",
   "id": "cc368a3a-62a2-4852-b056-d672a49bb01f",
   "metadata": {},
   "source": [
    "## Creating Neural Network (2 layers excluding the inputs)\n",
    "\n",
    "There will be 2 layers. The inputs will be 28 * 28 neurons or 784 in total, the hidden layer will have 300 neurons, and then the output will have 10 neurons representing the likihood of each digit in this classification problem after applying the softmax function to the logit function."
   ]
  },
  {
   "cell_type": "code",
   "execution_count": 136,
   "id": "4070804f-b2e1-4000-87ae-79ace4b87f53",
   "metadata": {},
   "outputs": [
    {
     "data": {
      "text/plain": [
       "(784, 100)"
      ]
     },
     "execution_count": 136,
     "metadata": {},
     "output_type": "execute_result"
    }
   ],
   "source": [
    "# Defining parameters in neural network\n",
    "\n",
    "neurons_input, neurons_l1, neurons_output = 784, 300, 10\n",
    "randomGen = np.random.default_rng(seed=42)\n",
    "\n",
    "W2 = randomGen.random((neurons_output, neurons_l1)) # for integers could use randomGen.integers(2,size=(10, 1))\n",
    "b2 = randomGen.random((neurons_output, 1))\n",
    "W1 = randomGen.random((neurons_l1, neurons_input)) #300 rows, 784 columns\n",
    "b1 = randomGen.random((neurons_l1, 1))\n",
    "p = [W1, b1, W2, b2] #parameters we need to periodically update using SGD and backprop.\n",
    "\n",
    "#Construcing input and mini-batch\n",
    "def GetMiniBatch(x_train): \n",
    "    numInputs = 100\n",
    "    miniBatch = np.zeros((784,numInputs))\n",
    "    for i in range(numInputs):\n",
    "        r = random.randint(1, 60000) #we may sample the same images again from another batch\n",
    "        temp = np.array(x_train[r])\n",
    "        temp = np.reshape(temp, 784)\n",
    "        miniBatch[:,i] = temp\n",
    "    return miniBatch #each column represents a sample\n",
    "\n",
    "GetMiniBatch(x_train).shape"
   ]
  },
  {
   "cell_type": "code",
   "execution_count": null,
   "id": "2eee6a38-fdfc-4a12-9be6-97adc44b0577",
   "metadata": {},
   "outputs": [],
   "source": [
    "#Foward Propagation\n",
    "def sigmoid(z):\n",
    "    return (1/(1 + np.exp(-z))\n",
    "            \n",
    "def sigmoidDeriv(z):\n",
    "    return (1 - sigmoid(z))\n",
    "\n",
    "def ForwardProp(miniBatch, W1, b1, W2, b2):\n",
    "    #First Layer\n",
    "    z1 = np.matmul(W1, miniBatch) + b1 # (300 X 784) X (784 X 100) + (300 X 1)\n",
    "    a1 = sigmoid(z)\n",
    "    #Second layer\n",
    "    z2 = np.matmul(W2, a1) + b2 # (300 X 784) X (784 X 100) + (300 X 1)\n",
    "    #Softmax\n",
    "    np.dhd\n",
    "    \n",
    "            "
   ]
  }
 ],
 "metadata": {
  "kernelspec": {
   "display_name": "Python 3 (ipykernel)",
   "language": "python",
   "name": "python3"
  },
  "language_info": {
   "codemirror_mode": {
    "name": "ipython",
    "version": 3
   },
   "file_extension": ".py",
   "mimetype": "text/x-python",
   "name": "python",
   "nbconvert_exporter": "python",
   "pygments_lexer": "ipython3",
   "version": "3.10.9"
  }
 },
 "nbformat": 4,
 "nbformat_minor": 5
}
